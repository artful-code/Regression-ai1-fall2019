{
  "nbformat": 4,
  "nbformat_minor": 0,
  "metadata": {
    "kernelspec": {
      "display_name": "Python 3",
      "name": "python3",
      "language": "python"
    },
    "language_info": {
      "mimetype": "text/x-python",
      "nbconvert_exporter": "python",
      "name": "python",
      "file_extension": ".py",
      "version": "3.6.8",
      "pygments_lexer": "ipython3",
      "codemirror_mode": {
        "version": 3,
        "name": "ipython"
      }
    },
    "anaconda-cloud": {},
    "nteract": {
      "version": "0.7.1"
    },
    "colab": {
      "name": "lab_linreg.ipynb",
      "provenance": [],
      "include_colab_link": true
    }
  },
  "cells": [
    {
      "cell_type": "markdown",
      "metadata": {
        "id": "view-in-github",
        "colab_type": "text"
      },
      "source": [
        "<a href=\"https://colab.research.google.com/github/vishalsharma-jpg/Regression-ai1-fall2019/blob/master/lab_linreg.ipynb\" target=\"_parent\"><img src=\"https://colab.research.google.com/assets/colab-badge.svg\" alt=\"Open In Colab\"/></a>"
      ]
    },
    {
      "cell_type": "markdown",
      "metadata": {
        "id": "y7RDM9mPG5Oz",
        "colab_type": "text"
      },
      "source": [
        "# Linear Regression Multiple Ways"
      ]
    },
    {
      "cell_type": "markdown",
      "metadata": {
        "id": "iXyz4GrJG5O2",
        "colab_type": "text"
      },
      "source": [
        "## Making the data\n",
        "\n",
        "We'll first construct a synthetic data set..using a function from the `scikit-learn` library. Synthetic data is nice in the sense that we can constrain how the noise behaves, and thus isolate effects."
      ]
    },
    {
      "cell_type": "code",
      "metadata": {
        "id": "vs52HeyNG5O4",
        "colab_type": "code",
        "colab": {}
      },
      "source": [
        "%matplotlib inline\n",
        "from sklearn.datasets import make_regression\n",
        "#\n",
        "import numpy as np\n",
        "import matplotlib.pyplot as plt"
      ],
      "execution_count": 0,
      "outputs": []
    },
    {
      "cell_type": "code",
      "metadata": {
        "id": "M7Gkk_VAG5O9",
        "colab_type": "code",
        "colab": {}
      },
      "source": [
        "#code adapted from http://tillbergmann.com/blog/python-gradient-descent.html\n",
        "X, y, coef = make_regression(n_samples = 100, \n",
        "                       n_features=1, \n",
        "                       noise=100,\n",
        "                       random_state=2017,\n",
        "                       coef=True)"
      ],
      "execution_count": 0,
      "outputs": []
    },
    {
      "cell_type": "markdown",
      "metadata": {
        "id": "zF5Q9S6PG5PA",
        "colab_type": "text"
      },
      "source": [
        "Notice that the X is in the canonical array-of-arrays format.\n",
        "**Try and print its shape**"
      ]
    },
    {
      "cell_type": "code",
      "metadata": {
        "id": "1C5iAjKhG5PB",
        "colab_type": "code",
        "colab": {
          "base_uri": "https://localhost:8080/",
          "height": 34
        },
        "outputId": "84d6b79b-bdbe-45e4-b61b-ffa07c04fbc1"
      },
      "source": [
        "X.shape"
      ],
      "execution_count": 32,
      "outputs": [
        {
          "output_type": "execute_result",
          "data": {
            "text/plain": [
              "(100, 1)"
            ]
          },
          "metadata": {
            "tags": []
          },
          "execution_count": 32
        }
      ]
    },
    {
      "cell_type": "code",
      "metadata": {
        "id": "cWiihnoGJPaB",
        "colab_type": "code",
        "colab": {
          "base_uri": "https://localhost:8080/",
          "height": 1000
        },
        "outputId": "06365b88-8181-40df-f988-b4ce7ae275d0"
      },
      "source": [
        "X"
      ],
      "execution_count": 33,
      "outputs": [
        {
          "output_type": "execute_result",
          "data": {
            "text/plain": [
              "array([[ 0.03225343],\n",
              "       [-0.43717257],\n",
              "       [-0.14039799],\n",
              "       [-0.28942671],\n",
              "       [-1.43048995],\n",
              "       [-0.86109055],\n",
              "       [-0.95908022],\n",
              "       [-0.52824237],\n",
              "       [-0.18007786],\n",
              "       [ 1.81894788],\n",
              "       [-1.50157469],\n",
              "       [ 1.07524045],\n",
              "       [-0.53757079],\n",
              "       [-0.33654744],\n",
              "       [-0.69333384],\n",
              "       [ 0.18613021],\n",
              "       [-0.35285906],\n",
              "       [-0.59573347],\n",
              "       [-0.95284841],\n",
              "       [ 1.37214258],\n",
              "       [-1.00148098],\n",
              "       [ 0.59405599],\n",
              "       [ 1.98893004],\n",
              "       [-0.84764818],\n",
              "       [ 0.21276995],\n",
              "       [-0.86352344],\n",
              "       [-0.44574656],\n",
              "       [-1.08669572],\n",
              "       [ 0.88578638],\n",
              "       [-0.39457786],\n",
              "       [-0.75808346],\n",
              "       [ 0.21445342],\n",
              "       [-0.91772873],\n",
              "       [ 1.18192126],\n",
              "       [-1.23456807],\n",
              "       [ 1.51028721],\n",
              "       [ 0.36908201],\n",
              "       [ 0.07800759],\n",
              "       [ 0.92827925],\n",
              "       [ 0.91180261],\n",
              "       [ 0.50541435],\n",
              "       [ 0.39476163],\n",
              "       [-1.40727442],\n",
              "       [ 1.33682587],\n",
              "       [ 0.28914398],\n",
              "       [ 0.10784411],\n",
              "       [-0.48610801],\n",
              "       [-1.01412413],\n",
              "       [-0.99058644],\n",
              "       [-0.81726253],\n",
              "       [ 1.19533418],\n",
              "       [ 1.39334529],\n",
              "       [-0.55307527],\n",
              "       [ 1.31181742],\n",
              "       [-0.20875222],\n",
              "       [ 0.02615138],\n",
              "       [ 0.03133165],\n",
              "       [-0.85845574],\n",
              "       [-0.09592554],\n",
              "       [ 0.57347598],\n",
              "       [ 0.88361674],\n",
              "       [-0.27481173],\n",
              "       [-0.89590558],\n",
              "       [-1.02294529],\n",
              "       [ 1.44454617],\n",
              "       [ 0.74268098],\n",
              "       [-0.55325354],\n",
              "       [ 0.46630994],\n",
              "       [ 0.81253433],\n",
              "       [-0.38342089],\n",
              "       [ 1.14773859],\n",
              "       [ 0.19909227],\n",
              "       [-0.09843773],\n",
              "       [-0.39285043],\n",
              "       [ 1.20320029],\n",
              "       [-1.56386788],\n",
              "       [-0.724668  ],\n",
              "       [-0.84860918],\n",
              "       [-0.22007928],\n",
              "       [-0.73312349],\n",
              "       [-0.44412137],\n",
              "       [ 1.23233384],\n",
              "       [-0.48253414],\n",
              "       [ 0.6770562 ],\n",
              "       [ 0.89574884],\n",
              "       [-0.01124513],\n",
              "       [-0.520261  ],\n",
              "       [-2.20268367],\n",
              "       [ 1.20129796],\n",
              "       [-0.74358543],\n",
              "       [-0.70954338],\n",
              "       [-0.19933591],\n",
              "       [-1.08933018],\n",
              "       [ 0.78779876],\n",
              "       [ 0.14851281],\n",
              "       [-0.59370289],\n",
              "       [ 0.44482146],\n",
              "       [ 2.42038368],\n",
              "       [ 0.67422499],\n",
              "       [ 0.02184234]])"
            ]
          },
          "metadata": {
            "tags": []
          },
          "execution_count": 33
        }
      ]
    },
    {
      "cell_type": "markdown",
      "metadata": {
        "id": "YXDiV6NkG5PE",
        "colab_type": "text"
      },
      "source": [
        "We are fitting a model with an intercept. Lets see what it is."
      ]
    },
    {
      "cell_type": "code",
      "metadata": {
        "id": "NsOsZARAG5PF",
        "colab_type": "code",
        "colab": {
          "base_uri": "https://localhost:8080/",
          "height": 34
        },
        "outputId": "28366d12-6ae9-460f-fca1-98e32ad4046c"
      },
      "source": [
        "coef"
      ],
      "execution_count": 34,
      "outputs": [
        {
          "output_type": "execute_result",
          "data": {
            "text/plain": [
              "array(80.88336208)"
            ]
          },
          "metadata": {
            "tags": []
          },
          "execution_count": 34
        }
      ]
    },
    {
      "cell_type": "markdown",
      "metadata": {
        "id": "HdfdKCDbG5PI",
        "colab_type": "text"
      },
      "source": [
        "We can plot the data."
      ]
    },
    {
      "cell_type": "code",
      "metadata": {
        "id": "6yoQ8x3oG5PJ",
        "colab_type": "code",
        "colab": {
          "base_uri": "https://localhost:8080/",
          "height": 269
        },
        "outputId": "03205bb4-2491-426d-88e5-159e976b0643"
      },
      "source": [
        "plt.plot(X,y, 'o');"
      ],
      "execution_count": 35,
      "outputs": [
        {
          "output_type": "display_data",
          "data": {
            "image/png": "[encoded data removed]",
            "text/plain": [
              "<Figure size 432x288 with 1 Axes>"
            ]
          },
          "metadata": {
            "tags": []
          }
        }
      ]
    },
    {
      "cell_type": "markdown",
      "metadata": {
        "id": "sN2IDnU-G5PM",
        "colab_type": "text"
      },
      "source": [
        "For the purposes of drawing the regression line, lets create a uniform grid of points, and then reshape it into the canonical format"
      ]
    },
    {
      "cell_type": "code",
      "metadata": {
        "id": "clypPmAEG5PO",
        "colab_type": "code",
        "colab": {}
      },
      "source": [
        "xgrid = np.linspace(-2.5,2.5,1000)\n",
        "Xgrid = xgrid.reshape(-1,1)"
      ],
      "execution_count": 0,
      "outputs": []
    },
    {
      "cell_type": "code",
      "metadata": {
        "id": "SZY03-2mKEPZ",
        "colab_type": "code",
        "colab": {
          "base_uri": "https://localhost:8080/",
          "height": 34
        },
        "outputId": "ad4a68bb-3d83-4ab0-d482-77f461d18b8b"
      },
      "source": [
        "Xgrid.shape,xgrid.shape"
      ],
      "execution_count": 38,
      "outputs": [
        {
          "output_type": "execute_result",
          "data": {
            "text/plain": [
              "((1000, 1), (1000,))"
            ]
          },
          "metadata": {
            "tags": []
          },
          "execution_count": 38
        }
      ]
    },
    {
      "cell_type": "code",
      "metadata": {
        "id": "fbusMPZkKkT6",
        "colab_type": "code",
        "colab": {
          "base_uri": "https://localhost:8080/",
          "height": 1000
        },
        "outputId": "3f773311-8e3c-4ea7-f40b-44467eb44a32"
      },
      "source": [
        "xgrid"
      ],
      "execution_count": 13,
      "outputs": [
        {
          "output_type": "execute_result",
          "data": {
            "text/plain": [
              "array([-2.5       , -2.49499499, -2.48998999, -2.48498498, -2.47997998,\n",
              "       -2.47497497, -2.46996997, -2.46496496, -2.45995996, -2.45495495,\n",
              "       -2.44994995, -2.44494494, -2.43993994, -2.43493493, -2.42992993,\n",
              "       -2.42492492, -2.41991992, -2.41491491, -2.40990991, -2.4049049 ,\n",
              "       -2.3998999 , -2.39489489, -2.38988989, -2.38488488, -2.37987988,\n",
              "       -2.37487487, -2.36986987, -2.36486486, -2.35985986, -2.35485485,\n",
              "       -2.34984985, -2.34484484, -2.33983984, -2.33483483, -2.32982983,\n",
              "       -2.32482482, -2.31981982, -2.31481481, -2.30980981, -2.3048048 ,\n",
              "       -2.2997998 , -2.29479479, -2.28978979, -2.28478478, -2.27977978,\n",
              "       -2.27477477, -2.26976977, -2.26476476, -2.25975976, -2.25475475,\n",
              "       -2.24974975, -2.24474474, -2.23973974, -2.23473473, -2.22972973,\n",
              "       -2.22472472, -2.21971972, -2.21471471, -2.20970971, -2.2047047 ,\n",
              "       -2.1996997 , -2.19469469, -2.18968969, -2.18468468, -2.17967968,\n",
              "       -2.17467467, -2.16966967, -2.16466466, -2.15965966, -2.15465465,\n",
              "       -2.14964965, -2.14464464, -2.13963964, -2.13463463, -2.12962963,\n",
              "       -2.12462462, -2.11961962, -2.11461461, -2.10960961, -2.1046046 ,\n",
              "       -2.0995996 , -2.09459459, -2.08958959, -2.08458458, -2.07957958,\n",
              "       -2.07457457, -2.06956957, -2.06456456, -2.05955956, -2.05455455,\n",
              "       -2.04954955, -2.04454454, -2.03953954, -2.03453453, -2.02952953,\n",
              "       -2.02452452, -2.01951952, -2.01451451, -2.00950951, -2.0045045 ,\n",
              "       -1.9994995 , -1.99449449, -1.98948949, -1.98448448, -1.97947948,\n",
              "       -1.97447447, -1.96946947, -1.96446446, -1.95945946, -1.95445445,\n",
              "       -1.94944945, -1.94444444, -1.93943944, -1.93443443, -1.92942943,\n",
              "       -1.92442442, -1.91941942, -1.91441441, -1.90940941, -1.9044044 ,\n",
              "       -1.8993994 , -1.89439439, -1.88938939, -1.88438438, -1.87937938,\n",
              "       -1.87437437, -1.86936937, -1.86436436, -1.85935936, -1.85435435,\n",
              "       -1.84934935, -1.84434434, -1.83933934, -1.83433433, -1.82932933,\n",
              "       -1.82432432, -1.81931932, -1.81431431, -1.80930931, -1.8043043 ,\n",
              "       -1.7992993 , -1.79429429, -1.78928929, -1.78428428, -1.77927928,\n",
              "       -1.77427427, -1.76926927, -1.76426426, -1.75925926, -1.75425425,\n",
              "       -1.74924925, -1.74424424, -1.73923924, -1.73423423, -1.72922923,\n",
              "       -1.72422422, -1.71921922, -1.71421421, -1.70920921, -1.7042042 ,\n",
              "       -1.6991992 , -1.69419419, -1.68918919, -1.68418418, -1.67917918,\n",
              "       -1.67417417, -1.66916917, -1.66416416, -1.65915916, -1.65415415,\n",
              "       -1.64914915, -1.64414414, -1.63913914, -1.63413413, -1.62912913,\n",
              "       -1.62412412, -1.61911912, -1.61411411, -1.60910911, -1.6041041 ,\n",
              "       -1.5990991 , -1.59409409, -1.58908909, -1.58408408, -1.57907908,\n",
              "       -1.57407407, -1.56906907, -1.56406406, -1.55905906, -1.55405405,\n",
              "       -1.54904905, -1.54404404, -1.53903904, -1.53403403, -1.52902903,\n",
              "       -1.52402402, -1.51901902, -1.51401401, -1.50900901, -1.504004  ,\n",
              "       -1.498999  , -1.49399399, -1.48898899, -1.48398398, -1.47897898,\n",
              "       -1.47397397, -1.46896897, -1.46396396, -1.45895896, -1.45395395,\n",
              "       -1.44894895, -1.44394394, -1.43893894, -1.43393393, -1.42892893,\n",
              "       -1.42392392, -1.41891892, -1.41391391, -1.40890891, -1.4039039 ,\n",
              "       -1.3988989 , -1.39389389, -1.38888889, -1.38388388, -1.37887888,\n",
              "       -1.37387387, -1.36886887, -1.36386386, -1.35885886, -1.35385385,\n",
              "       -1.34884885, -1.34384384, -1.33883884, -1.33383383, -1.32882883,\n",
              "       -1.32382382, -1.31881882, -1.31381381, -1.30880881, -1.3038038 ,\n",
              "       -1.2987988 , -1.29379379, -1.28878879, -1.28378378, -1.27877878,\n",
              "       -1.27377377, -1.26876877, -1.26376376, -1.25875876, -1.25375375,\n",
              "       -1.24874875, -1.24374374, -1.23873874, -1.23373373, -1.22872873,\n",
              "       -1.22372372, -1.21871872, -1.21371371, -1.20870871, -1.2037037 ,\n",
              "       -1.1986987 , -1.19369369, -1.18868869, -1.18368368, -1.17867868,\n",
              "       -1.17367367, -1.16866867, -1.16366366, -1.15865866, -1.15365365,\n",
              "       -1.14864865, -1.14364364, -1.13863864, -1.13363363, -1.12862863,\n",
              "       -1.12362362, -1.11861862, -1.11361361, -1.10860861, -1.1036036 ,\n",
              "       -1.0985986 , -1.09359359, -1.08858859, -1.08358358, -1.07857858,\n",
              "       -1.07357357, -1.06856857, -1.06356356, -1.05855856, -1.05355355,\n",
              "       -1.04854855, -1.04354354, -1.03853854, -1.03353353, -1.02852853,\n",
              "       -1.02352352, -1.01851852, -1.01351351, -1.00850851, -1.0035035 ,\n",
              "       -0.9984985 , -0.99349349, -0.98848849, -0.98348348, -0.97847848,\n",
              "       -0.97347347, -0.96846847, -0.96346346, -0.95845846, -0.95345345,\n",
              "       -0.94844845, -0.94344344, -0.93843844, -0.93343343, -0.92842843,\n",
              "       -0.92342342, -0.91841842, -0.91341341, -0.90840841, -0.9034034 ,\n",
              "       -0.8983984 , -0.89339339, -0.88838839, -0.88338338, -0.87837838,\n",
              "       -0.87337337, -0.86836837, -0.86336336, -0.85835836, -0.85335335,\n",
              "       -0.84834835, -0.84334334, -0.83833834, -0.83333333, -0.82832833,\n",
              "       -0.82332332, -0.81831832, -0.81331331, -0.80830831, -0.8033033 ,\n",
              "       -0.7982983 , -0.79329329, -0.78828829, -0.78328328, -0.77827828,\n",
              "       -0.77327327, -0.76826827, -0.76326326, -0.75825826, -0.75325325,\n",
              "       -0.74824825, -0.74324324, -0.73823824, -0.73323323, -0.72822823,\n",
              "       -0.72322322, -0.71821822, -0.71321321, -0.70820821, -0.7032032 ,\n",
              "       -0.6981982 , -0.69319319, -0.68818819, -0.68318318, -0.67817818,\n",
              "       -0.67317317, -0.66816817, -0.66316316, -0.65815816, -0.65315315,\n",
              "       -0.64814815, -0.64314314, -0.63813814, -0.63313313, -0.62812813,\n",
              "       -0.62312312, -0.61811812, -0.61311311, -0.60810811, -0.6031031 ,\n",
              "       -0.5980981 , -0.59309309, -0.58808809, -0.58308308, -0.57807808,\n",
              "       -0.57307307, -0.56806807, -0.56306306, -0.55805806, -0.55305305,\n",
              "       -0.54804805, -0.54304304, -0.53803804, -0.53303303, -0.52802803,\n",
              "       -0.52302302, -0.51801802, -0.51301301, -0.50800801, -0.503003  ,\n",
              "       -0.497998  , -0.49299299, -0.48798799, -0.48298298, -0.47797798,\n",
              "       -0.47297297, -0.46796797, -0.46296296, -0.45795796, -0.45295295,\n",
              "       -0.44794795, -0.44294294, -0.43793794, -0.43293293, -0.42792793,\n",
              "       -0.42292292, -0.41791792, -0.41291291, -0.40790791, -0.4029029 ,\n",
              "       -0.3978979 , -0.39289289, -0.38788789, -0.38288288, -0.37787788,\n",
              "       -0.37287287, -0.36786787, -0.36286286, -0.35785786, -0.35285285,\n",
              "       -0.34784785, -0.34284284, -0.33783784, -0.33283283, -0.32782783,\n",
              "       -0.32282282, -0.31781782, -0.31281281, -0.30780781, -0.3028028 ,\n",
              "       -0.2977978 , -0.29279279, -0.28778779, -0.28278278, -0.27777778,\n",
              "       -0.27277277, -0.26776777, -0.26276276, -0.25775776, -0.25275275,\n",
              "       -0.24774775, -0.24274274, -0.23773774, -0.23273273, -0.22772773,\n",
              "       -0.22272272, -0.21771772, -0.21271271, -0.20770771, -0.2027027 ,\n",
              "       -0.1976977 , -0.19269269, -0.18768769, -0.18268268, -0.17767768,\n",
              "       -0.17267267, -0.16766767, -0.16266266, -0.15765766, -0.15265265,\n",
              "       -0.14764765, -0.14264264, -0.13763764, -0.13263263, -0.12762763,\n",
              "       -0.12262262, -0.11761762, -0.11261261, -0.10760761, -0.1026026 ,\n",
              "       -0.0975976 , -0.09259259, -0.08758759, -0.08258258, -0.07757758,\n",
              "       -0.07257257, -0.06756757, -0.06256256, -0.05755756, -0.05255255,\n",
              "       -0.04754755, -0.04254254, -0.03753754, -0.03253253, -0.02752753,\n",
              "       -0.02252252, -0.01751752, -0.01251251, -0.00750751, -0.0025025 ,\n",
              "        0.0025025 ,  0.00750751,  0.01251251,  0.01751752,  0.02252252,\n",
              "        0.02752753,  0.03253253,  0.03753754,  0.04254254,  0.04754755,\n",
              "        0.05255255,  0.05755756,  0.06256256,  0.06756757,  0.07257257,\n",
              "        0.07757758,  0.08258258,  0.08758759,  0.09259259,  0.0975976 ,\n",
              "        0.1026026 ,  0.10760761,  0.11261261,  0.11761762,  0.12262262,\n",
              "        0.12762763,  0.13263263,  0.13763764,  0.14264264,  0.14764765,\n",
              "        0.15265265,  0.15765766,  0.16266266,  0.16766767,  0.17267267,\n",
              "        0.17767768,  0.18268268,  0.18768769,  0.19269269,  0.1976977 ,\n",
              "        0.2027027 ,  0.20770771,  0.21271271,  0.21771772,  0.22272272,\n",
              "        0.22772773,  0.23273273,  0.23773774,  0.24274274,  0.24774775,\n",
              "        0.25275275,  0.25775776,  0.26276276,  0.26776777,  0.27277277,\n",
              "        0.27777778,  0.28278278,  0.28778779,  0.29279279,  0.2977978 ,\n",
              "        0.3028028 ,  0.30780781,  0.31281281,  0.31781782,  0.32282282,\n",
              "        0.32782783,  0.33283283,  0.33783784,  0.34284284,  0.34784785,\n",
              "        0.35285285,  0.35785786,  0.36286286,  0.36786787,  0.37287287,\n",
              "        0.37787788,  0.38288288,  0.38788789,  0.39289289,  0.3978979 ,\n",
              "        0.4029029 ,  0.40790791,  0.41291291,  0.41791792,  0.42292292,\n",
              "        0.42792793,  0.43293293,  0.43793794,  0.44294294,  0.44794795,\n",
              "        0.45295295,  0.45795796,  0.46296296,  0.46796797,  0.47297297,\n",
              "        0.47797798,  0.48298298,  0.48798799,  0.49299299,  0.497998  ,\n",
              "        0.503003  ,  0.50800801,  0.51301301,  0.51801802,  0.52302302,\n",
              "        0.52802803,  0.53303303,  0.53803804,  0.54304304,  0.54804805,\n",
              "        0.55305305,  0.55805806,  0.56306306,  0.56806807,  0.57307307,\n",
              "        0.57807808,  0.58308308,  0.58808809,  0.59309309,  0.5980981 ,\n",
              "        0.6031031 ,  0.60810811,  0.61311311,  0.61811812,  0.62312312,\n",
              "        0.62812813,  0.63313313,  0.63813814,  0.64314314,  0.64814815,\n",
              "        0.65315315,  0.65815816,  0.66316316,  0.66816817,  0.67317317,\n",
              "        0.67817818,  0.68318318,  0.68818819,  0.69319319,  0.6981982 ,\n",
              "        0.7032032 ,  0.70820821,  0.71321321,  0.71821822,  0.72322322,\n",
              "        0.72822823,  0.73323323,  0.73823824,  0.74324324,  0.74824825,\n",
              "        0.75325325,  0.75825826,  0.76326326,  0.76826827,  0.77327327,\n",
              "        0.77827828,  0.78328328,  0.78828829,  0.79329329,  0.7982983 ,\n",
              "        0.8033033 ,  0.80830831,  0.81331331,  0.81831832,  0.82332332,\n",
              "        0.82832833,  0.83333333,  0.83833834,  0.84334334,  0.84834835,\n",
              "        0.85335335,  0.85835836,  0.86336336,  0.86836837,  0.87337337,\n",
              "        0.87837838,  0.88338338,  0.88838839,  0.89339339,  0.8983984 ,\n",
              "        0.9034034 ,  0.90840841,  0.91341341,  0.91841842,  0.92342342,\n",
              "        0.92842843,  0.93343343,  0.93843844,  0.94344344,  0.94844845,\n",
              "        0.95345345,  0.95845846,  0.96346346,  0.96846847,  0.97347347,\n",
              "        0.97847848,  0.98348348,  0.98848849,  0.99349349,  0.9984985 ,\n",
              "        1.0035035 ,  1.00850851,  1.01351351,  1.01851852,  1.02352352,\n",
              "        1.02852853,  1.03353353,  1.03853854,  1.04354354,  1.04854855,\n",
              "        1.05355355,  1.05855856,  1.06356356,  1.06856857,  1.07357357,\n",
              "        1.07857858,  1.08358358,  1.08858859,  1.09359359,  1.0985986 ,\n",
              "        1.1036036 ,  1.10860861,  1.11361361,  1.11861862,  1.12362362,\n",
              "        1.12862863,  1.13363363,  1.13863864,  1.14364364,  1.14864865,\n",
              "        1.15365365,  1.15865866,  1.16366366,  1.16866867,  1.17367367,\n",
              "        1.17867868,  1.18368368,  1.18868869,  1.19369369,  1.1986987 ,\n",
              "        1.2037037 ,  1.20870871,  1.21371371,  1.21871872,  1.22372372,\n",
              "        1.22872873,  1.23373373,  1.23873874,  1.24374374,  1.24874875,\n",
              "        1.25375375,  1.25875876,  1.26376376,  1.26876877,  1.27377377,\n",
              "        1.27877878,  1.28378378,  1.28878879,  1.29379379,  1.2987988 ,\n",
              "        1.3038038 ,  1.30880881,  1.31381381,  1.31881882,  1.32382382,\n",
              "        1.32882883,  1.33383383,  1.33883884,  1.34384384,  1.34884885,\n",
              "        1.35385385,  1.35885886,  1.36386386,  1.36886887,  1.37387387,\n",
              "        1.37887888,  1.38388388,  1.38888889,  1.39389389,  1.3988989 ,\n",
              "        1.4039039 ,  1.40890891,  1.41391391,  1.41891892,  1.42392392,\n",
              "        1.42892893,  1.43393393,  1.43893894,  1.44394394,  1.44894895,\n",
              "        1.45395395,  1.45895896,  1.46396396,  1.46896897,  1.47397397,\n",
              "        1.47897898,  1.48398398,  1.48898899,  1.49399399,  1.498999  ,\n",
              "        1.504004  ,  1.50900901,  1.51401401,  1.51901902,  1.52402402,\n",
              "        1.52902903,  1.53403403,  1.53903904,  1.54404404,  1.54904905,\n",
              "        1.55405405,  1.55905906,  1.56406406,  1.56906907,  1.57407407,\n",
              "        1.57907908,  1.58408408,  1.58908909,  1.59409409,  1.5990991 ,\n",
              "        1.6041041 ,  1.60910911,  1.61411411,  1.61911912,  1.62412412,\n",
              "        1.62912913,  1.63413413,  1.63913914,  1.64414414,  1.64914915,\n",
              "        1.65415415,  1.65915916,  1.66416416,  1.66916917,  1.67417417,\n",
              "        1.67917918,  1.68418418,  1.68918919,  1.69419419,  1.6991992 ,\n",
              "        1.7042042 ,  1.70920921,  1.71421421,  1.71921922,  1.72422422,\n",
              "        1.72922923,  1.73423423,  1.73923924,  1.74424424,  1.74924925,\n",
              "        1.75425425,  1.75925926,  1.76426426,  1.76926927,  1.77427427,\n",
              "        1.77927928,  1.78428428,  1.78928929,  1.79429429,  1.7992993 ,\n",
              "        1.8043043 ,  1.80930931,  1.81431431,  1.81931932,  1.82432432,\n",
              "        1.82932933,  1.83433433,  1.83933934,  1.84434434,  1.84934935,\n",
              "        1.85435435,  1.85935936,  1.86436436,  1.86936937,  1.87437437,\n",
              "        1.87937938,  1.88438438,  1.88938939,  1.89439439,  1.8993994 ,\n",
              "        1.9044044 ,  1.90940941,  1.91441441,  1.91941942,  1.92442442,\n",
              "        1.92942943,  1.93443443,  1.93943944,  1.94444444,  1.94944945,\n",
              "        1.95445445,  1.95945946,  1.96446446,  1.96946947,  1.97447447,\n",
              "        1.97947948,  1.98448448,  1.98948949,  1.99449449,  1.9994995 ,\n",
              "        2.0045045 ,  2.00950951,  2.01451451,  2.01951952,  2.02452452,\n",
              "        2.02952953,  2.03453453,  2.03953954,  2.04454454,  2.04954955,\n",
              "        2.05455455,  2.05955956,  2.06456456,  2.06956957,  2.07457457,\n",
              "        2.07957958,  2.08458458,  2.08958959,  2.09459459,  2.0995996 ,\n",
              "        2.1046046 ,  2.10960961,  2.11461461,  2.11961962,  2.12462462,\n",
              "        2.12962963,  2.13463463,  2.13963964,  2.14464464,  2.14964965,\n",
              "        2.15465465,  2.15965966,  2.16466466,  2.16966967,  2.17467467,\n",
              "        2.17967968,  2.18468468,  2.18968969,  2.19469469,  2.1996997 ,\n",
              "        2.2047047 ,  2.20970971,  2.21471471,  2.21971972,  2.22472472,\n",
              "        2.22972973,  2.23473473,  2.23973974,  2.24474474,  2.24974975,\n",
              "        2.25475475,  2.25975976,  2.26476476,  2.26976977,  2.27477477,\n",
              "        2.27977978,  2.28478478,  2.28978979,  2.29479479,  2.2997998 ,\n",
              "        2.3048048 ,  2.30980981,  2.31481481,  2.31981982,  2.32482482,\n",
              "        2.32982983,  2.33483483,  2.33983984,  2.34484484,  2.34984985,\n",
              "        2.35485485,  2.35985986,  2.36486486,  2.36986987,  2.37487487,\n",
              "        2.37987988,  2.38488488,  2.38988989,  2.39489489,  2.3998999 ,\n",
              "        2.4049049 ,  2.40990991,  2.41491491,  2.41991992,  2.42492492,\n",
              "        2.42992993,  2.43493493,  2.43993994,  2.44494494,  2.44994995,\n",
              "        2.45495495,  2.45995996,  2.46496496,  2.46996997,  2.47497497,\n",
              "        2.47997998,  2.48498498,  2.48998999,  2.49499499,  2.5       ])"
            ]
          },
          "metadata": {
            "tags": []
          },
          "execution_count": 13
        }
      ]
    },
    {
      "cell_type": "markdown",
      "metadata": {
        "id": "46T8vuQBG5PV",
        "colab_type": "text"
      },
      "source": [
        "## Fit using sklearn"
      ]
    },
    {
      "cell_type": "code",
      "metadata": {
        "id": "AXLxdAbuG5PV",
        "colab_type": "code",
        "colab": {}
      },
      "source": [
        "from sklearn.linear_model import LinearRegression"
      ],
      "execution_count": 0,
      "outputs": []
    },
    {
      "cell_type": "code",
      "metadata": {
        "id": "QjT4WYy3G5Pe",
        "colab_type": "code",
        "colab": {
          "base_uri": "https://localhost:8080/",
          "height": 34
        },
        "outputId": "e78885d6-c010-4572-a52b-8492240331ad"
      },
      "source": [
        "lr = LinearRegression()\n",
        "lr.fit(X,y)\n",
        "ypgrid = lr.predict(Xgrid)\n",
        "lr.coef_, lr.intercept_"
      ],
      "execution_count": 40,
      "outputs": [
        {
          "output_type": "execute_result",
          "data": {
            "text/plain": [
              "(array([90.98935874]), -18.54614434335151)"
            ]
          },
          "metadata": {
            "tags": []
          },
          "execution_count": 40
        }
      ]
    },
    {
      "cell_type": "code",
      "metadata": {
        "id": "NziSmsm8G5Pg",
        "colab_type": "code",
        "colab": {
          "base_uri": "https://localhost:8080/",
          "height": 286
        },
        "outputId": "41de2512-f389-496e-b7c7-827b90046b4a"
      },
      "source": [
        "plt.plot(Xgrid, ypgrid)\n",
        "plt.plot(X, y, '.')"
      ],
      "execution_count": 41,
      "outputs": [
        {
          "output_type": "execute_result",
          "data": {
            "text/plain": [
              "[<matplotlib.lines.Line2D at 0x7f82229174a8>]"
            ]
          },
          "metadata": {
            "tags": []
          },
          "execution_count": 41
        },
        {
          "output_type": "display_data",
          "data": {
            "image/png": "[encoded data removed]",
            "text/plain": [
              "<Figure size 432x288 with 1 Axes>"
            ]
          },
          "metadata": {
            "tags": []
          }
        }
      ]
    },
    {
      "cell_type": "code",
      "metadata": {
        "id": "k0jVy0p4G5Pl",
        "colab_type": "code",
        "colab": {}
      },
      "source": [
        "from sklearn.metrics import r2_score"
      ],
      "execution_count": 0,
      "outputs": []
    },
    {
      "cell_type": "code",
      "metadata": {
        "id": "YQdZT21IG5Pn",
        "colab_type": "code",
        "colab": {
          "base_uri": "https://localhost:8080/",
          "height": 34
        },
        "outputId": "3c25daca-fba3-4743-998c-5a5c6ca8c837"
      },
      "source": [
        "r2_score(y, lr.predict(X))"
      ],
      "execution_count": 43,
      "outputs": [
        {
          "output_type": "execute_result",
          "data": {
            "text/plain": [
              "0.4063345885213998"
            ]
          },
          "metadata": {
            "tags": []
          },
          "execution_count": 43
        }
      ]
    },
    {
      "cell_type": "markdown",
      "metadata": {
        "id": "IWX9SzNuG5Po",
        "colab_type": "text"
      },
      "source": [
        "## The impact of sample size\n",
        "\n",
        "We'll sample 20 points from the data set. We do this by sampling 20 indices, index into X and y, and then fit on the sample"
      ]
    },
    {
      "cell_type": "code",
      "metadata": {
        "id": "TEZ96KWWG5Po",
        "colab_type": "code",
        "colab": {
          "base_uri": "https://localhost:8080/",
          "height": 71
        },
        "outputId": "d942f3a3-d0b4-44f4-fa51-94683138cf65"
      },
      "source": [
        "sample_indices = np.random.choice(range(100), size=20)\n",
        "sample_indices\n",
        "#giving 20 random values "
      ],
      "execution_count": 44,
      "outputs": [
        {
          "output_type": "execute_result",
          "data": {
            "text/plain": [
              "array([97, 52,  4, 69, 78, 44, 26, 63,  0, 36, 12, 40, 99, 50, 68, 55, 59,\n",
              "       50, 83, 76])"
            ]
          },
          "metadata": {
            "tags": []
          },
          "execution_count": 44
        }
      ]
    },
    {
      "cell_type": "code",
      "metadata": {
        "id": "oKKLGUpDG5Pq",
        "colab_type": "code",
        "colab": {}
      },
      "source": [
        "Xsample = X[sample_indices]\n",
        "ysample = y[sample_indices]"
      ],
      "execution_count": 0,
      "outputs": []
    },
    {
      "cell_type": "code",
      "metadata": {
        "id": "n_MHJm5VG5Pr",
        "colab_type": "code",
        "colab": {
          "base_uri": "https://localhost:8080/",
          "height": 34
        },
        "outputId": "c5f0d59b-757d-4c9a-95c0-218adc847064"
      },
      "source": [
        "lr_s = LinearRegression().fit(Xsample, ysample)\n",
        "r2_score(ysample, lr_s.predict(Xsample)), lr_s.score(Xsample, ysample)\n",
        "#here is the r2 score for various random samples of 20"
      ],
      "execution_count": 47,
      "outputs": [
        {
          "output_type": "execute_result",
          "data": {
            "text/plain": [
              "(0.5868624392184296, 0.5868624392184296)"
            ]
          },
          "metadata": {
            "tags": []
          },
          "execution_count": 47
        }
      ]
    },
    {
      "cell_type": "markdown",
      "metadata": {
        "id": "vHpiq6CAG5Px",
        "colab_type": "text"
      },
      "source": [
        "Lets check the sensitivity of our prediction to our sample. We'll do this 1000 times"
      ]
    },
    {
      "cell_type": "code",
      "metadata": {
        "id": "Qov559BYG5Px",
        "colab_type": "code",
        "colab": {
          "base_uri": "https://localhost:8080/",
          "height": 286
        },
        "outputId": "97d28d4d-e96f-4537-e6af-416c88e13486"
      },
      "source": [
        "scores = []\n",
        "for i in range(1000):\n",
        "    sample_indices = np.random.choice(range(100), size=20)\n",
        "    Xsample = X[sample_indices]\n",
        "    ysample = y[sample_indices]\n",
        "    scores.append(LinearRegression().fit(Xsample, ysample).score(Xsample, ysample))\n",
        "plt.hist(scores,  bins=np.linspace(0.7, 1, 30))\n",
        "plt.xlim(0.7,1)"
      ],
      "execution_count": 48,
      "outputs": [
        {
          "output_type": "execute_result",
          "data": {
            "text/plain": [
              "(0.7, 1)"
            ]
          },
          "metadata": {
            "tags": []
          },
          "execution_count": 48
        },
        {
          "output_type": "display_data",
          "data": {
            "image/png": "[encoded data removed]",
            "text/plain": [
              "<Figure size 432x288 with 1 Axes>"
            ]
          },
          "metadata": {
            "tags": []
          }
        }
      ]
    },
    {
      "cell_type": "markdown",
      "metadata": {
        "id": "ZVDEIvZbG5Py",
        "colab_type": "text"
      },
      "source": [
        "Redo this with a higher amount of noise (about 400). For this you will need to create a new dataset. Plot the data. Plot the histogram of the R^2 as well as that of the coefficients.Try a smaller dataset as well. What conclusions can you draw?"
      ]
    },
    {
      "cell_type": "code",
      "metadata": {
        "id": "3bqBeWiUG5Pz",
        "colab_type": "code",
        "colab": {}
      },
      "source": [
        "# your code here\n",
        "#code adapted from http://tillbergmann.com/blog/python-gradient-descent.html\n",
        "Xnew, ynew, coef = make_regression(n_samples = 100, \n",
        "                       n_features=1, \n",
        "                       noise=400,\n",
        "                       random_state=2017,\n",
        "                       coef=True)\n",
        "\n"
      ],
      "execution_count": 0,
      "outputs": []
    },
    {
      "cell_type": "code",
      "metadata": {
        "id": "4vvrqi6SG5P0",
        "colab_type": "code",
        "colab": {
          "base_uri": "https://localhost:8080/",
          "height": 579
        },
        "outputId": "78fa68ed-8af4-4127-ac0a-835c320a7ec0"
      },
      "source": [
        "# your code here\n",
        "plt.plot(Xnew,ynew, '0');\n"
      ],
      "execution_count": 57,
      "outputs": [
        {
          "output_type": "error",
          "ename": "ValueError",
          "evalue": "ignored",
          "traceback": [
            "\u001b[0;31m---------------------------------------------------------------------------\u001b[0m",
            "\u001b[0;31mValueError\u001b[0m                                Traceback (most recent call last)",
            "\u001b[0;32m<ipython-input-57-1f211f8343b4>\u001b[0m in \u001b[0;36m<module>\u001b[0;34m()\u001b[0m\n\u001b[0;32m----> 1\u001b[0;31m \u001b[0mplt\u001b[0m\u001b[0;34m.\u001b[0m\u001b[0mplot\u001b[0m\u001b[0;34m(\u001b[0m\u001b[0mXnew\u001b[0m\u001b[0;34m,\u001b[0m\u001b[0mynew\u001b[0m\u001b[0;34m,\u001b[0m \u001b[0;34m'0'\u001b[0m\u001b[0;34m)\u001b[0m\u001b[0;34m;\u001b[0m\u001b[0;34m\u001b[0m\u001b[0;34m\u001b[0m\u001b[0m\n\u001b[0m",
            "\u001b[0;32m/usr/local/lib/python3.6/dist-packages/matplotlib/pyplot.py\u001b[0m in \u001b[0;36mplot\u001b[0;34m(scalex, scaley, data, *args, **kwargs)\u001b[0m\n\u001b[1;32m   2809\u001b[0m     return gca().plot(\n\u001b[1;32m   2810\u001b[0m         *args, scalex=scalex, scaley=scaley, **({\"data\": data} if data\n\u001b[0;32m-> 2811\u001b[0;31m         is not None else {}), **kwargs)\n\u001b[0m\u001b[1;32m   2812\u001b[0m \u001b[0;34m\u001b[0m\u001b[0m\n\u001b[1;32m   2813\u001b[0m \u001b[0;34m\u001b[0m\u001b[0m\n",
            "\u001b[0;32m/usr/local/lib/python3.6/dist-packages/matplotlib/__init__.py\u001b[0m in \u001b[0;36minner\u001b[0;34m(ax, data, *args, **kwargs)\u001b[0m\n\u001b[1;32m   1808\u001b[0m                         \u001b[0;34m\"the Matplotlib list!)\"\u001b[0m \u001b[0;34m%\u001b[0m \u001b[0;34m(\u001b[0m\u001b[0mlabel_namer\u001b[0m\u001b[0;34m,\u001b[0m \u001b[0mfunc\u001b[0m\u001b[0;34m.\u001b[0m\u001b[0m__name__\u001b[0m\u001b[0;34m)\u001b[0m\u001b[0;34m,\u001b[0m\u001b[0;34m\u001b[0m\u001b[0;34m\u001b[0m\u001b[0m\n\u001b[1;32m   1809\u001b[0m                         RuntimeWarning, stacklevel=2)\n\u001b[0;32m-> 1810\u001b[0;31m             \u001b[0;32mreturn\u001b[0m \u001b[0mfunc\u001b[0m\u001b[0;34m(\u001b[0m\u001b[0max\u001b[0m\u001b[0;34m,\u001b[0m \u001b[0;34m*\u001b[0m\u001b[0margs\u001b[0m\u001b[0;34m,\u001b[0m \u001b[0;34m**\u001b[0m\u001b[0mkwargs\u001b[0m\u001b[0;34m)\u001b[0m\u001b[0;34m\u001b[0m\u001b[0;34m\u001b[0m\u001b[0m\n\u001b[0m\u001b[1;32m   1811\u001b[0m \u001b[0;34m\u001b[0m\u001b[0m\n\u001b[1;32m   1812\u001b[0m         inner.__doc__ = _add_data_doc(inner.__doc__,\n",
            "\u001b[0;32m/usr/local/lib/python3.6/dist-packages/matplotlib/axes/_axes.py\u001b[0m in \u001b[0;36mplot\u001b[0;34m(self, scalex, scaley, *args, **kwargs)\u001b[0m\n\u001b[1;32m   1609\u001b[0m         \u001b[0mkwargs\u001b[0m \u001b[0;34m=\u001b[0m \u001b[0mcbook\u001b[0m\u001b[0;34m.\u001b[0m\u001b[0mnormalize_kwargs\u001b[0m\u001b[0;34m(\u001b[0m\u001b[0mkwargs\u001b[0m\u001b[0;34m,\u001b[0m \u001b[0mmlines\u001b[0m\u001b[0;34m.\u001b[0m\u001b[0mLine2D\u001b[0m\u001b[0;34m.\u001b[0m\u001b[0m_alias_map\u001b[0m\u001b[0;34m)\u001b[0m\u001b[0;34m\u001b[0m\u001b[0;34m\u001b[0m\u001b[0m\n\u001b[1;32m   1610\u001b[0m \u001b[0;34m\u001b[0m\u001b[0m\n\u001b[0;32m-> 1611\u001b[0;31m         \u001b[0;32mfor\u001b[0m \u001b[0mline\u001b[0m \u001b[0;32min\u001b[0m \u001b[0mself\u001b[0m\u001b[0;34m.\u001b[0m\u001b[0m_get_lines\u001b[0m\u001b[0;34m(\u001b[0m\u001b[0;34m*\u001b[0m\u001b[0margs\u001b[0m\u001b[0;34m,\u001b[0m \u001b[0;34m**\u001b[0m\u001b[0mkwargs\u001b[0m\u001b[0;34m)\u001b[0m\u001b[0;34m:\u001b[0m\u001b[0;34m\u001b[0m\u001b[0;34m\u001b[0m\u001b[0m\n\u001b[0m\u001b[1;32m   1612\u001b[0m             \u001b[0mself\u001b[0m\u001b[0;34m.\u001b[0m\u001b[0madd_line\u001b[0m\u001b[0;34m(\u001b[0m\u001b[0mline\u001b[0m\u001b[0;34m)\u001b[0m\u001b[0;34m\u001b[0m\u001b[0;34m\u001b[0m\u001b[0m\n\u001b[1;32m   1613\u001b[0m             \u001b[0mlines\u001b[0m\u001b[0;34m.\u001b[0m\u001b[0mappend\u001b[0m\u001b[0;34m(\u001b[0m\u001b[0mline\u001b[0m\u001b[0;34m)\u001b[0m\u001b[0;34m\u001b[0m\u001b[0;34m\u001b[0m\u001b[0m\n",
            "\u001b[0;32m/usr/local/lib/python3.6/dist-packages/matplotlib/axes/_base.py\u001b[0m in \u001b[0;36m_grab_next_args\u001b[0;34m(self, *args, **kwargs)\u001b[0m\n\u001b[1;32m    391\u001b[0m                 \u001b[0mthis\u001b[0m \u001b[0;34m+=\u001b[0m \u001b[0margs\u001b[0m\u001b[0;34m[\u001b[0m\u001b[0;36m0\u001b[0m\u001b[0;34m]\u001b[0m\u001b[0;34m,\u001b[0m\u001b[0;34m\u001b[0m\u001b[0;34m\u001b[0m\u001b[0m\n\u001b[1;32m    392\u001b[0m                 \u001b[0margs\u001b[0m \u001b[0;34m=\u001b[0m \u001b[0margs\u001b[0m\u001b[0;34m[\u001b[0m\u001b[0;36m1\u001b[0m\u001b[0;34m:\u001b[0m\u001b[0;34m]\u001b[0m\u001b[0;34m\u001b[0m\u001b[0;34m\u001b[0m\u001b[0m\n\u001b[0;32m--> 393\u001b[0;31m             \u001b[0;32myield\u001b[0m \u001b[0;32mfrom\u001b[0m \u001b[0mself\u001b[0m\u001b[0;34m.\u001b[0m\u001b[0m_plot_args\u001b[0m\u001b[0;34m(\u001b[0m\u001b[0mthis\u001b[0m\u001b[0;34m,\u001b[0m \u001b[0mkwargs\u001b[0m\u001b[0;34m)\u001b[0m\u001b[0;34m\u001b[0m\u001b[0;34m\u001b[0m\u001b[0m\n\u001b[0m\u001b[1;32m    394\u001b[0m \u001b[0;34m\u001b[0m\u001b[0m\n\u001b[1;32m    395\u001b[0m \u001b[0;34m\u001b[0m\u001b[0m\n",
            "\u001b[0;32m/usr/local/lib/python3.6/dist-packages/matplotlib/axes/_base.py\u001b[0m in \u001b[0;36m_plot_args\u001b[0;34m(self, tup, kwargs)\u001b[0m\n\u001b[1;32m    340\u001b[0m         \u001b[0mret\u001b[0m \u001b[0;34m=\u001b[0m \u001b[0;34m[\u001b[0m\u001b[0;34m]\u001b[0m\u001b[0;34m\u001b[0m\u001b[0;34m\u001b[0m\u001b[0m\n\u001b[1;32m    341\u001b[0m         \u001b[0;32mif\u001b[0m \u001b[0mlen\u001b[0m\u001b[0;34m(\u001b[0m\u001b[0mtup\u001b[0m\u001b[0;34m)\u001b[0m \u001b[0;34m>\u001b[0m \u001b[0;36m1\u001b[0m \u001b[0;32mand\u001b[0m \u001b[0misinstance\u001b[0m\u001b[0;34m(\u001b[0m\u001b[0mtup\u001b[0m\u001b[0;34m[\u001b[0m\u001b[0;34m-\u001b[0m\u001b[0;36m1\u001b[0m\u001b[0;34m]\u001b[0m\u001b[0;34m,\u001b[0m \u001b[0mstr\u001b[0m\u001b[0;34m)\u001b[0m\u001b[0;34m:\u001b[0m\u001b[0;34m\u001b[0m\u001b[0;34m\u001b[0m\u001b[0m\n\u001b[0;32m--> 342\u001b[0;31m             \u001b[0mlinestyle\u001b[0m\u001b[0;34m,\u001b[0m \u001b[0mmarker\u001b[0m\u001b[0;34m,\u001b[0m \u001b[0mcolor\u001b[0m \u001b[0;34m=\u001b[0m \u001b[0m_process_plot_format\u001b[0m\u001b[0;34m(\u001b[0m\u001b[0mtup\u001b[0m\u001b[0;34m[\u001b[0m\u001b[0;34m-\u001b[0m\u001b[0;36m1\u001b[0m\u001b[0;34m]\u001b[0m\u001b[0;34m)\u001b[0m\u001b[0;34m\u001b[0m\u001b[0;34m\u001b[0m\u001b[0m\n\u001b[0m\u001b[1;32m    343\u001b[0m             \u001b[0mtup\u001b[0m \u001b[0;34m=\u001b[0m \u001b[0mtup\u001b[0m\u001b[0;34m[\u001b[0m\u001b[0;34m:\u001b[0m\u001b[0;34m-\u001b[0m\u001b[0;36m1\u001b[0m\u001b[0;34m]\u001b[0m\u001b[0;34m\u001b[0m\u001b[0;34m\u001b[0m\u001b[0m\n\u001b[1;32m    344\u001b[0m         \u001b[0;32melif\u001b[0m \u001b[0mlen\u001b[0m\u001b[0;34m(\u001b[0m\u001b[0mtup\u001b[0m\u001b[0;34m)\u001b[0m \u001b[0;34m==\u001b[0m \u001b[0;36m3\u001b[0m\u001b[0;34m:\u001b[0m\u001b[0;34m\u001b[0m\u001b[0;34m\u001b[0m\u001b[0m\n",
            "\u001b[0;32m/usr/local/lib/python3.6/dist-packages/matplotlib/axes/_base.py\u001b[0m in \u001b[0;36m_process_plot_format\u001b[0;34m(fmt)\u001b[0m\n\u001b[1;32m    116\u001b[0m         \u001b[0;32melse\u001b[0m\u001b[0;34m:\u001b[0m\u001b[0;34m\u001b[0m\u001b[0;34m\u001b[0m\u001b[0m\n\u001b[1;32m    117\u001b[0m             raise ValueError(\n\u001b[0;32m--> 118\u001b[0;31m                 'Unrecognized character %c in format string' % c)\n\u001b[0m\u001b[1;32m    119\u001b[0m         \u001b[0mi\u001b[0m \u001b[0;34m+=\u001b[0m \u001b[0;36m1\u001b[0m\u001b[0;34m\u001b[0m\u001b[0;34m\u001b[0m\u001b[0m\n\u001b[1;32m    120\u001b[0m \u001b[0;34m\u001b[0m\u001b[0m\n",
            "\u001b[0;31mValueError\u001b[0m: Unrecognized character 0 in format string"
          ]
        },
        {
          "output_type": "display_data",
          "data": {
            "image/png": "[encoded data removed]",
            "text/plain": [
              "<Figure size 432x288 with 1 Axes>"
            ]
          },
          "metadata": {
            "tags": []
          }
        }
      ]
    },
    {
      "cell_type": "code",
      "metadata": {
        "id": "B9lhxVCAG5P3",
        "colab_type": "code",
        "colab": {}
      },
      "source": [
        "# your code here\n"
      ],
      "execution_count": 0,
      "outputs": []
    },
    {
      "cell_type": "code",
      "metadata": {
        "id": "wmz5AEYLG5P4",
        "colab_type": "code",
        "colab": {}
      },
      "source": [
        "# your code here\n"
      ],
      "execution_count": 0,
      "outputs": []
    },
    {
      "cell_type": "markdown",
      "metadata": {
        "id": "TbIgDw2bG5P5",
        "colab_type": "text"
      },
      "source": [
        "## Testing and training\n",
        "\n",
        "A grid like the one we created might contain some of the points we fit this model on. This is called **Data Contamination** and is a big no-no. If we want an independent estimate of the error, we should hold out some points in a test set."
      ]
    },
    {
      "cell_type": "code",
      "metadata": {
        "id": "JiciBoGaG5P5",
        "colab_type": "code",
        "colab": {}
      },
      "source": [
        "from sklearn.model_selection import train_test_split"
      ],
      "execution_count": 0,
      "outputs": []
    },
    {
      "cell_type": "code",
      "metadata": {
        "id": "zTFq7SlqG5P6",
        "colab_type": "code",
        "colab": {}
      },
      "source": [
        "Xtrain, Xtest, ytrain, ytest = train_test_split(X, y, test_size=0.2, random_state=2017)"
      ],
      "execution_count": 0,
      "outputs": []
    },
    {
      "cell_type": "markdown",
      "metadata": {
        "id": "9_7JgzSYG5P7",
        "colab_type": "text"
      },
      "source": [
        "Now lets fit the model on the training set and evaluate it both on the training set and the test set. We print the R^2"
      ]
    },
    {
      "cell_type": "code",
      "metadata": {
        "id": "X4BvclOyG5P7",
        "colab_type": "code",
        "colab": {}
      },
      "source": [
        "lr2 = LinearRegression().fit(Xtrain, ytrain)\n",
        "r2_test = r2_score(ytest, lr.predict(Xtest))\n",
        "r2_train = r2_score(ytrain, lr.predict(Xtrain))"
      ],
      "execution_count": 0,
      "outputs": []
    },
    {
      "cell_type": "code",
      "metadata": {
        "id": "9sRB6YTEG5P8",
        "colab_type": "code",
        "colab": {}
      },
      "source": [
        "\"Train R2 is {}, while test R^2 is {}\".format(r2_train, r2_test)"
      ],
      "execution_count": 0,
      "outputs": []
    },
    {
      "cell_type": "markdown",
      "metadata": {
        "id": "uer5aOJOG5P9",
        "colab_type": "text"
      },
      "source": [
        "## Using Keras to fit the model\n",
        "\n",
        "We'll use plain and simple gradient descent (why?) and Keras's Sequential API"
      ]
    },
    {
      "cell_type": "code",
      "metadata": {
        "id": "l7qxtX8SG5P9",
        "colab_type": "code",
        "colab": {}
      },
      "source": [
        "from keras.models import Sequential\n",
        "from keras.layers import Dense\n",
        "lr3 = Sequential()\n",
        "lr3.add(Dense(1, input_shape=(1,)))\n",
        "lr3.compile(optimizer='sgd', loss='mean_squared_error',  metrics=['mae','accuracy'])\n",
        "lr3.summary()"
      ],
      "execution_count": 0,
      "outputs": []
    },
    {
      "cell_type": "code",
      "metadata": {
        "id": "wrzkA7R_G5P-",
        "colab_type": "code",
        "colab": {}
      },
      "source": [
        "history = lr3.fit(Xtrain, ytrain, epochs=400, batch_size=80)"
      ],
      "execution_count": 0,
      "outputs": []
    },
    {
      "cell_type": "code",
      "metadata": {
        "id": "_txcHhMCG5P_",
        "colab_type": "code",
        "colab": {}
      },
      "source": [
        "plt.plot(history.history['loss'])"
      ],
      "execution_count": 0,
      "outputs": []
    },
    {
      "cell_type": "code",
      "metadata": {
        "id": "PWG4uuSpG5P_",
        "colab_type": "code",
        "colab": {}
      },
      "source": [
        "lr3.get_weights()"
      ],
      "execution_count": 0,
      "outputs": []
    }
  ]
}